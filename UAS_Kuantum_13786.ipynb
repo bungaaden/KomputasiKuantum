{
  "cells": [
    {
      "cell_type": "code",
      "execution_count": 2,
      "metadata": {
        "colab": {
          "base_uri": "https://localhost:8080/"
        },
        "id": "8iltbac34EzH",
        "outputId": "a2b4ad3a-e56b-4941-d238-36cdaaef5dc3"
      },
      "outputs": [
        {
          "output_type": "stream",
          "name": "stdout",
          "text": [
            "Requirement already satisfied: qiskit in /usr/local/lib/python3.10/dist-packages (1.1.1)\n",
            "Requirement already satisfied: rustworkx>=0.14.0 in /usr/local/lib/python3.10/dist-packages (from qiskit) (0.15.1)\n",
            "Requirement already satisfied: numpy<3,>=1.17 in /usr/local/lib/python3.10/dist-packages (from qiskit) (1.25.2)\n",
            "Requirement already satisfied: scipy>=1.5 in /usr/local/lib/python3.10/dist-packages (from qiskit) (1.11.4)\n",
            "Requirement already satisfied: sympy>=1.3 in /usr/local/lib/python3.10/dist-packages (from qiskit) (1.13.0)\n",
            "Requirement already satisfied: dill>=0.3 in /usr/local/lib/python3.10/dist-packages (from qiskit) (0.3.8)\n",
            "Requirement already satisfied: python-dateutil>=2.8.0 in /usr/local/lib/python3.10/dist-packages (from qiskit) (2.8.2)\n",
            "Requirement already satisfied: stevedore>=3.0.0 in /usr/local/lib/python3.10/dist-packages (from qiskit) (5.2.0)\n",
            "Requirement already satisfied: typing-extensions in /usr/local/lib/python3.10/dist-packages (from qiskit) (4.12.2)\n",
            "Requirement already satisfied: symengine>=0.11 in /usr/local/lib/python3.10/dist-packages (from qiskit) (0.11.0)\n",
            "Requirement already satisfied: six>=1.5 in /usr/local/lib/python3.10/dist-packages (from python-dateutil>=2.8.0->qiskit) (1.16.0)\n",
            "Requirement already satisfied: pbr!=2.1.0,>=2.0.0 in /usr/local/lib/python3.10/dist-packages (from stevedore>=3.0.0->qiskit) (6.0.0)\n",
            "Requirement already satisfied: mpmath<1.4,>=1.1.0 in /usr/local/lib/python3.10/dist-packages (from sympy>=1.3->qiskit) (1.3.0)\n"
          ]
        }
      ],
      "source": [
        "pip install qiskit"
      ]
    },
    {
      "cell_type": "code",
      "execution_count": 4,
      "metadata": {
        "colab": {
          "base_uri": "https://localhost:8080/"
        },
        "id": "v2348ch24Ig8",
        "outputId": "84fa4393-05a6-49c0-b90d-a1ae4ca9952e"
      },
      "outputs": [
        {
          "output_type": "stream",
          "name": "stdout",
          "text": [
            "Requirement already satisfied: qiskit-ibm-runtime in /usr/local/lib/python3.10/dist-packages (0.25.0)\n",
            "Requirement already satisfied: requests>=2.19 in /usr/local/lib/python3.10/dist-packages (from qiskit-ibm-runtime) (2.31.0)\n",
            "Requirement already satisfied: requests-ntlm>=1.1.0 in /usr/local/lib/python3.10/dist-packages (from qiskit-ibm-runtime) (1.3.0)\n",
            "Requirement already satisfied: numpy>=1.13 in /usr/local/lib/python3.10/dist-packages (from qiskit-ibm-runtime) (1.25.2)\n",
            "Requirement already satisfied: urllib3>=1.21.1 in /usr/local/lib/python3.10/dist-packages (from qiskit-ibm-runtime) (2.2.2)\n",
            "Requirement already satisfied: python-dateutil>=2.8.0 in /usr/local/lib/python3.10/dist-packages (from qiskit-ibm-runtime) (2.8.2)\n",
            "Requirement already satisfied: websocket-client>=1.5.1 in /usr/local/lib/python3.10/dist-packages (from qiskit-ibm-runtime) (1.8.0)\n",
            "Requirement already satisfied: ibm-platform-services>=0.22.6 in /usr/local/lib/python3.10/dist-packages (from qiskit-ibm-runtime) (0.55.1)\n",
            "Requirement already satisfied: pydantic>=2.5.0 in /usr/local/lib/python3.10/dist-packages (from qiskit-ibm-runtime) (2.8.2)\n",
            "Requirement already satisfied: qiskit>=1.1.0 in /usr/local/lib/python3.10/dist-packages (from qiskit-ibm-runtime) (1.1.1)\n",
            "Requirement already satisfied: ibm-cloud-sdk-core<4.0.0,>=3.20.3 in /usr/local/lib/python3.10/dist-packages (from ibm-platform-services>=0.22.6->qiskit-ibm-runtime) (3.20.3)\n",
            "Requirement already satisfied: annotated-types>=0.4.0 in /usr/local/lib/python3.10/dist-packages (from pydantic>=2.5.0->qiskit-ibm-runtime) (0.7.0)\n",
            "Requirement already satisfied: pydantic-core==2.20.1 in /usr/local/lib/python3.10/dist-packages (from pydantic>=2.5.0->qiskit-ibm-runtime) (2.20.1)\n",
            "Requirement already satisfied: typing-extensions>=4.6.1 in /usr/local/lib/python3.10/dist-packages (from pydantic>=2.5.0->qiskit-ibm-runtime) (4.12.2)\n",
            "Requirement already satisfied: six>=1.5 in /usr/local/lib/python3.10/dist-packages (from python-dateutil>=2.8.0->qiskit-ibm-runtime) (1.16.0)\n",
            "Requirement already satisfied: rustworkx>=0.14.0 in /usr/local/lib/python3.10/dist-packages (from qiskit>=1.1.0->qiskit-ibm-runtime) (0.15.1)\n",
            "Requirement already satisfied: scipy>=1.5 in /usr/local/lib/python3.10/dist-packages (from qiskit>=1.1.0->qiskit-ibm-runtime) (1.11.4)\n",
            "Requirement already satisfied: sympy>=1.3 in /usr/local/lib/python3.10/dist-packages (from qiskit>=1.1.0->qiskit-ibm-runtime) (1.13.0)\n",
            "Requirement already satisfied: dill>=0.3 in /usr/local/lib/python3.10/dist-packages (from qiskit>=1.1.0->qiskit-ibm-runtime) (0.3.8)\n",
            "Requirement already satisfied: stevedore>=3.0.0 in /usr/local/lib/python3.10/dist-packages (from qiskit>=1.1.0->qiskit-ibm-runtime) (5.2.0)\n",
            "Requirement already satisfied: symengine>=0.11 in /usr/local/lib/python3.10/dist-packages (from qiskit>=1.1.0->qiskit-ibm-runtime) (0.11.0)\n",
            "Requirement already satisfied: charset-normalizer<4,>=2 in /usr/local/lib/python3.10/dist-packages (from requests>=2.19->qiskit-ibm-runtime) (3.3.2)\n",
            "Requirement already satisfied: idna<4,>=2.5 in /usr/local/lib/python3.10/dist-packages (from requests>=2.19->qiskit-ibm-runtime) (3.7)\n",
            "Requirement already satisfied: certifi>=2017.4.17 in /usr/local/lib/python3.10/dist-packages (from requests>=2.19->qiskit-ibm-runtime) (2024.7.4)\n",
            "Requirement already satisfied: cryptography>=1.3 in /usr/local/lib/python3.10/dist-packages (from requests-ntlm>=1.1.0->qiskit-ibm-runtime) (42.0.8)\n",
            "Requirement already satisfied: pyspnego>=0.4.0 in /usr/local/lib/python3.10/dist-packages (from requests-ntlm>=1.1.0->qiskit-ibm-runtime) (0.11.0)\n",
            "Requirement already satisfied: cffi>=1.12 in /usr/local/lib/python3.10/dist-packages (from cryptography>=1.3->requests-ntlm>=1.1.0->qiskit-ibm-runtime) (1.16.0)\n",
            "Requirement already satisfied: PyJWT<3.0.0,>=2.8.0 in /usr/local/lib/python3.10/dist-packages (from ibm-cloud-sdk-core<4.0.0,>=3.20.3->ibm-platform-services>=0.22.6->qiskit-ibm-runtime) (2.8.0)\n",
            "Requirement already satisfied: pbr!=2.1.0,>=2.0.0 in /usr/local/lib/python3.10/dist-packages (from stevedore>=3.0.0->qiskit>=1.1.0->qiskit-ibm-runtime) (6.0.0)\n",
            "Requirement already satisfied: mpmath<1.4,>=1.1.0 in /usr/local/lib/python3.10/dist-packages (from sympy>=1.3->qiskit>=1.1.0->qiskit-ibm-runtime) (1.3.0)\n",
            "Requirement already satisfied: pycparser in /usr/local/lib/python3.10/dist-packages (from cffi>=1.12->cryptography>=1.3->requests-ntlm>=1.1.0->qiskit-ibm-runtime) (2.22)\n"
          ]
        }
      ],
      "source": [
        "pip install qiskit-ibm-runtime"
      ]
    },
    {
      "cell_type": "code",
      "execution_count": 5,
      "metadata": {
        "colab": {
          "base_uri": "https://localhost:8080/"
        },
        "id": "9cjrGMOK4TDD",
        "outputId": "c340b87b-9484-4425-8d24-950d73d4e17e"
      },
      "outputs": [
        {
          "output_type": "stream",
          "name": "stdout",
          "text": [
            "Requirement already satisfied: qiskit-aer in /usr/local/lib/python3.10/dist-packages (0.14.2)\n",
            "Requirement already satisfied: qiskit>=0.45.2 in /usr/local/lib/python3.10/dist-packages (from qiskit-aer) (1.1.1)\n",
            "Requirement already satisfied: numpy>=1.16.3 in /usr/local/lib/python3.10/dist-packages (from qiskit-aer) (1.25.2)\n",
            "Requirement already satisfied: scipy>=1.0 in /usr/local/lib/python3.10/dist-packages (from qiskit-aer) (1.11.4)\n",
            "Requirement already satisfied: psutil>=5 in /usr/local/lib/python3.10/dist-packages (from qiskit-aer) (5.9.5)\n",
            "Requirement already satisfied: rustworkx>=0.14.0 in /usr/local/lib/python3.10/dist-packages (from qiskit>=0.45.2->qiskit-aer) (0.15.1)\n",
            "Requirement already satisfied: sympy>=1.3 in /usr/local/lib/python3.10/dist-packages (from qiskit>=0.45.2->qiskit-aer) (1.13.0)\n",
            "Requirement already satisfied: dill>=0.3 in /usr/local/lib/python3.10/dist-packages (from qiskit>=0.45.2->qiskit-aer) (0.3.8)\n",
            "Requirement already satisfied: python-dateutil>=2.8.0 in /usr/local/lib/python3.10/dist-packages (from qiskit>=0.45.2->qiskit-aer) (2.8.2)\n",
            "Requirement already satisfied: stevedore>=3.0.0 in /usr/local/lib/python3.10/dist-packages (from qiskit>=0.45.2->qiskit-aer) (5.2.0)\n",
            "Requirement already satisfied: typing-extensions in /usr/local/lib/python3.10/dist-packages (from qiskit>=0.45.2->qiskit-aer) (4.12.2)\n",
            "Requirement already satisfied: symengine>=0.11 in /usr/local/lib/python3.10/dist-packages (from qiskit>=0.45.2->qiskit-aer) (0.11.0)\n",
            "Requirement already satisfied: six>=1.5 in /usr/local/lib/python3.10/dist-packages (from python-dateutil>=2.8.0->qiskit>=0.45.2->qiskit-aer) (1.16.0)\n",
            "Requirement already satisfied: pbr!=2.1.0,>=2.0.0 in /usr/local/lib/python3.10/dist-packages (from stevedore>=3.0.0->qiskit>=0.45.2->qiskit-aer) (6.0.0)\n",
            "Requirement already satisfied: mpmath<1.4,>=1.1.0 in /usr/local/lib/python3.10/dist-packages (from sympy>=1.3->qiskit>=0.45.2->qiskit-aer) (1.3.0)\n"
          ]
        }
      ],
      "source": [
        "pip install qiskit-aer"
      ]
    },
    {
      "cell_type": "code",
      "execution_count": 6,
      "metadata": {
        "colab": {
          "base_uri": "https://localhost:8080/"
        },
        "id": "UcWYTeKa4b7w",
        "outputId": "18042e0c-a473-41fc-bd83-1374729732f0"
      },
      "outputs": [
        {
          "output_type": "stream",
          "name": "stdout",
          "text": [
            "Requirement already satisfied: scikit-learn in /usr/local/lib/python3.10/dist-packages (1.2.2)\n",
            "Requirement already satisfied: numpy>=1.17.3 in /usr/local/lib/python3.10/dist-packages (from scikit-learn) (1.25.2)\n",
            "Requirement already satisfied: scipy>=1.3.2 in /usr/local/lib/python3.10/dist-packages (from scikit-learn) (1.11.4)\n",
            "Requirement already satisfied: joblib>=1.1.1 in /usr/local/lib/python3.10/dist-packages (from scikit-learn) (1.4.2)\n",
            "Requirement already satisfied: threadpoolctl>=2.0.0 in /usr/local/lib/python3.10/dist-packages (from scikit-learn) (3.5.0)\n"
          ]
        }
      ],
      "source": [
        "pip install scikit-learn"
      ]
    },
    {
      "cell_type": "code",
      "execution_count": 7,
      "metadata": {
        "colab": {
          "base_uri": "https://localhost:8080/"
        },
        "id": "NYcjc3nO4e9h",
        "outputId": "d7e87245-4528-4354-d5fd-df44482a5047"
      },
      "outputs": [
        {
          "output_type": "stream",
          "name": "stdout",
          "text": [
            "Requirement already satisfied: qiskit in /usr/local/lib/python3.10/dist-packages (1.1.1)\n",
            "Requirement already satisfied: qiskit-machine-learning in /usr/local/lib/python3.10/dist-packages (0.7.2)\n",
            "Requirement already satisfied: rustworkx>=0.14.0 in /usr/local/lib/python3.10/dist-packages (from qiskit) (0.15.1)\n",
            "Requirement already satisfied: numpy<3,>=1.17 in /usr/local/lib/python3.10/dist-packages (from qiskit) (1.25.2)\n",
            "Requirement already satisfied: scipy>=1.5 in /usr/local/lib/python3.10/dist-packages (from qiskit) (1.11.4)\n",
            "Requirement already satisfied: sympy>=1.3 in /usr/local/lib/python3.10/dist-packages (from qiskit) (1.13.0)\n",
            "Requirement already satisfied: dill>=0.3 in /usr/local/lib/python3.10/dist-packages (from qiskit) (0.3.8)\n",
            "Requirement already satisfied: python-dateutil>=2.8.0 in /usr/local/lib/python3.10/dist-packages (from qiskit) (2.8.2)\n",
            "Requirement already satisfied: stevedore>=3.0.0 in /usr/local/lib/python3.10/dist-packages (from qiskit) (5.2.0)\n",
            "Requirement already satisfied: typing-extensions in /usr/local/lib/python3.10/dist-packages (from qiskit) (4.12.2)\n",
            "Requirement already satisfied: symengine>=0.11 in /usr/local/lib/python3.10/dist-packages (from qiskit) (0.11.0)\n",
            "Requirement already satisfied: qiskit-algorithms>=0.2.0 in /usr/local/lib/python3.10/dist-packages (from qiskit-machine-learning) (0.3.0)\n",
            "Requirement already satisfied: psutil>=5 in /usr/local/lib/python3.10/dist-packages (from qiskit-machine-learning) (5.9.5)\n",
            "Requirement already satisfied: scikit-learn>=1.2.0 in /usr/local/lib/python3.10/dist-packages (from qiskit-machine-learning) (1.2.2)\n",
            "Requirement already satisfied: fastdtw in /usr/local/lib/python3.10/dist-packages (from qiskit-machine-learning) (0.3.4)\n",
            "Requirement already satisfied: setuptools>=40.1.0 in /usr/local/lib/python3.10/dist-packages (from qiskit-machine-learning) (67.7.2)\n",
            "Requirement already satisfied: six>=1.5 in /usr/local/lib/python3.10/dist-packages (from python-dateutil>=2.8.0->qiskit) (1.16.0)\n",
            "Requirement already satisfied: joblib>=1.1.1 in /usr/local/lib/python3.10/dist-packages (from scikit-learn>=1.2.0->qiskit-machine-learning) (1.4.2)\n",
            "Requirement already satisfied: threadpoolctl>=2.0.0 in /usr/local/lib/python3.10/dist-packages (from scikit-learn>=1.2.0->qiskit-machine-learning) (3.5.0)\n",
            "Requirement already satisfied: pbr!=2.1.0,>=2.0.0 in /usr/local/lib/python3.10/dist-packages (from stevedore>=3.0.0->qiskit) (6.0.0)\n",
            "Requirement already satisfied: mpmath<1.4,>=1.1.0 in /usr/local/lib/python3.10/dist-packages (from sympy>=1.3->qiskit) (1.3.0)\n"
          ]
        }
      ],
      "source": [
        "pip install qiskit qiskit-machine-learning"
      ]
    },
    {
      "cell_type": "code",
      "execution_count": 8,
      "metadata": {
        "colab": {
          "base_uri": "https://localhost:8080/"
        },
        "id": "R0hH2bsf4kV9",
        "outputId": "42239c0c-d18e-462c-dd7e-12b3cd366fd5"
      },
      "outputs": [
        {
          "output_type": "stream",
          "name": "stdout",
          "text": [
            "Requirement already satisfied: pylatexenc in /usr/local/lib/python3.10/dist-packages (2.10)\n"
          ]
        }
      ],
      "source": [
        "pip install pylatexenc"
      ]
    },
    {
      "cell_type": "code",
      "execution_count": 9,
      "metadata": {
        "id": "PTobnit-4mNg"
      },
      "outputs": [],
      "source": [
        "import torch\n",
        "from torch.autograd import Function\n",
        "import torch.optim as optim\n",
        "import torch.nn as nn"
      ]
    },
    {
      "cell_type": "code",
      "execution_count": 10,
      "metadata": {
        "id": "bLsuqOaE4szp"
      },
      "outputs": [],
      "source": [
        "from qiskit.circuit import Parameter,ControlledGate\n",
        "from qiskit_aer import AerSimulator\n",
        "import qiskit\n",
        "import numpy as np"
      ]
    },
    {
      "cell_type": "code",
      "execution_count": 11,
      "metadata": {
        "id": "6xlborE04wON"
      },
      "outputs": [],
      "source": [
        "from tqdm import tqdm"
      ]
    },
    {
      "cell_type": "code",
      "execution_count": 12,
      "metadata": {
        "id": "U7DTANmn4zp-"
      },
      "outputs": [],
      "source": [
        "from matplotlib import pyplot as plt\n",
        "%matplotlib inline"
      ]
    },
    {
      "cell_type": "code",
      "execution_count": 13,
      "metadata": {
        "id": "AX52NbUm4_0s"
      },
      "outputs": [],
      "source": [
        "aersim = AerSimulator()\n",
        "np.random.seed = 42\n",
        "\n",
        "NUM_QUBITS = 4\n",
        "NUM_SHOTS = 2000\n",
        "SHIFT = np.pi/4\n",
        "LEARNING_RATE = 0.01\n",
        "MOMENTUM = 0.5\n",
        "\n",
        "SIMULATOR = aersim"
      ]
    },
    {
      "cell_type": "code",
      "execution_count": 14,
      "metadata": {
        "colab": {
          "base_uri": "https://localhost:8080/"
        },
        "id": "6Ofe4dYQ5A9s",
        "outputId": "bf84323a-b163-46ba-cae0-6ab650c89cde"
      },
      "outputs": [
        {
          "output_type": "stream",
          "name": "stdout",
          "text": [
            "['0000', '0001', '0010', '0011', '0100', '0101', '0110', '0111', '1000', '1001', '1010', '1011', '1100', '1101', '1110', '1111']\n"
          ]
        }
      ],
      "source": [
        "import itertools\n",
        "def create_QC_OUTPUTS():\n",
        "    measurements = list(itertools.product([0, 1], repeat=NUM_QUBITS))\n",
        "    return [''.join([str(bit) for bit in measurement]) for measurement in measurements]\n",
        "\n",
        "QC_OUTPUTS = create_QC_OUTPUTS()\n",
        "print(QC_OUTPUTS)"
      ]
    },
    {
      "cell_type": "code",
      "execution_count": 15,
      "metadata": {
        "id": "pTzFs8Ev5DYv"
      },
      "outputs": [],
      "source": [
        "from qiskit import transpile, assemble"
      ]
    },
    {
      "cell_type": "code",
      "execution_count": 16,
      "metadata": {
        "id": "C2_A8eKH5Gh4"
      },
      "outputs": [],
      "source": [
        "class QiskitCircuit():\n",
        "\n",
        "    def __init__(self, n_qubits, backend, shots):\n",
        "        # --- Circuit definition ---\n",
        "        self.circuit = qiskit.QuantumCircuit(n_qubits)\n",
        "        self.n_qubits = n_qubits\n",
        "        self.thetas ={k : Parameter('Theta'+str(k))for k in range(self.n_qubits)}\n",
        "\n",
        "        all_qubits = [i for i in range(n_qubits)]\n",
        "        self.circuit.h(all_qubits)\n",
        "        self.circuit.barrier()\n",
        "        for k in range(n_qubits):\n",
        "            self.circuit.ry(self.thetas[k], k)\n",
        "\n",
        "        self.circuit.measure_all()\n",
        "        # ---------------------------\n",
        "\n",
        "        self.backend = backend\n",
        "        self.shots = shots\n",
        "\n",
        "    def N_qubit_expectation_Z(self,counts, shots, nr_qubits):\n",
        "        expects = np.zeros(len(QC_OUTPUTS))\n",
        "        for k in range(len(QC_OUTPUTS)):\n",
        "            key = QC_OUTPUTS[k]\n",
        "            perc = counts.get(key, 0) /shots\n",
        "            expects[k] = perc\n",
        "        return expects\n",
        "\n",
        "    def run(self, i):\n",
        "        params = i\n",
        "\n",
        "        bound_params = {self.thetas[k]: params[k].item() for k in range(NUM_QUBITS)}\n",
        "        transpiled_circuit = transpile(self.circuit, self.backend)\n",
        "        qobj = assemble(transpiled_circuit, shots=self.shots, parameter_binds=[bound_params])\n",
        "\n",
        "        job_sim = self.backend.run(qobj)\n",
        "#\n",
        "        result_sim = job_sim.result()\n",
        "        counts = result_sim.get_counts()\n",
        "        return self.N_qubit_expectation_Z(counts,self.shots,NUM_QUBITS)"
      ]
    },
    {
      "cell_type": "code",
      "execution_count": 17,
      "metadata": {
        "colab": {
          "base_uri": "https://localhost:8080/",
          "height": 473
        },
        "id": "CO2wxthB5Jcl",
        "outputId": "d1b43347-a443-4b1c-9118-ee9c05d6bb78"
      },
      "outputs": [
        {
          "output_type": "stream",
          "name": "stderr",
          "text": [
            "<ipython-input-16-dddcc3e3ecd3>:36: DeprecationWarning: Using a qobj for run() is deprecated as of qiskit-aer 0.14 and will be removed no sooner than 3 months from that release date. Transpiled circuits should now be passed directly using `backend.run(circuits, **run_options).\n",
            "  job_sim = self.backend.run(qobj)\n"
          ]
        },
        {
          "output_type": "stream",
          "name": "stdout",
          "text": [
            "Expected value for rotation [pi/4]: [0.     0.002  0.004  0.016  0.001  0.0155 0.0155 0.093  0.004  0.0135\n",
            " 0.0135 0.087  0.016  0.0895 0.085  0.5445]\n"
          ]
        },
        {
          "output_type": "execute_result",
          "data": {
            "text/plain": [
              "<Figure size 831.22x451.5 with 1 Axes>"
            ],
            "image/png": "[encoded data removed]"
          },
          "metadata": {},
          "execution_count": 17
        }
      ],
      "source": [
        "circuit = QiskitCircuit(NUM_QUBITS, aersim, NUM_SHOTS)\n",
        "print('Expected value for rotation [pi/4]: {}'.format(circuit.run(torch.Tensor([np.pi/4]*NUM_QUBITS))))\n",
        "circuit.circuit.draw(output='mpl')"
      ]
    },
    {
      "cell_type": "code",
      "execution_count": 18,
      "metadata": {
        "id": "ra8VHRCI5bFf"
      },
      "outputs": [],
      "source": [
        "class TorchCircuit(Function):\n",
        "\n",
        "    @staticmethod\n",
        "    def forward(ctx, i):\n",
        "        if not hasattr(ctx, 'QiskitCirc'):\n",
        "            ctx.QiskitCirc = QiskitCircuit(NUM_QUBITS, SIMULATOR, shots=NUM_SHOTS)\n",
        "\n",
        "        exp_value = ctx.QiskitCirc.run(i)\n",
        "\n",
        "        result = torch.tensor([exp_value])\n",
        "\n",
        "\n",
        "        ctx.save_for_backward(result, i)\n",
        "\n",
        "        return result\n",
        "\n",
        "    @staticmethod\n",
        "    def backward(ctx, grad_output):\n",
        "\n",
        "        forward_tensor, i = ctx.saved_tensors\n",
        "\n",
        "        input_numbers = i\n",
        "\n",
        "        gradients = torch.Tensor()\n",
        "\n",
        "        for k in range(NUM_QUBITS):\n",
        "            shift_right = input_numbers.detach().clone()\n",
        "            shift_right[k] = shift_right[k] + SHIFT\n",
        "            shift_left = input_numbers.detach().clone()\n",
        "            shift_left[k] = shift_left[k] - SHIFT\n",
        "\n",
        "            expectation_right = ctx.QiskitCirc.run(shift_right)\n",
        "            expectation_left  = ctx.QiskitCirc.run(shift_left)\n",
        "\n",
        "            gradient = torch.tensor([expectation_right]) - torch.tensor([expectation_left])\n",
        "\n",
        "            gradients = torch.cat((gradients, gradient.float()))\n",
        "\n",
        "        result = torch.Tensor(gradients)\n",
        "\n",
        "        return (result.float() * grad_output.float()).T"
      ]
    },
    {
      "cell_type": "code",
      "execution_count": 19,
      "metadata": {
        "colab": {
          "base_uri": "https://localhost:8080/"
        },
        "id": "1yQiez9h5m5x",
        "outputId": "eba4171d-0c4f-4924-f286-97231a098325"
      },
      "outputs": [
        {
          "output_type": "stream",
          "name": "stderr",
          "text": [
            "<ipython-input-16-dddcc3e3ecd3>:36: DeprecationWarning: Using a qobj for run() is deprecated as of qiskit-aer 0.14 and will be removed no sooner than 3 months from that release date. Transpiled circuits should now be passed directly using `backend.run(circuits, **run_options).\n",
            "  job_sim = self.backend.run(qobj)\n",
            "<ipython-input-18-9770ca42621e>:10: UserWarning: Creating a tensor from a list of numpy.ndarrays is extremely slow. Please consider converting the list to a single numpy.ndarray with numpy.array() before converting to a tensor. (Triggered internally at ../torch/csrc/utils/tensor_new.cpp:274.)\n",
            "  result = torch.tensor([exp_value])\n"
          ]
        },
        {
          "output_type": "stream",
          "name": "stdout",
          "text": [
            "y1 after quantum layer: tensor([[5.0000e-04, 2.0000e-03, 1.5000e-03, 1.4000e-02, 3.5000e-03, 1.3500e-02,\n",
            "         1.6500e-02, 9.4000e-02, 2.5000e-03, 1.2000e-02, 1.8000e-02, 9.5500e-02,\n",
            "         1.8000e-02, 8.5000e-02, 1.0050e-01, 5.2300e-01]], dtype=torch.float64,\n",
            "       grad_fn=<TorchCircuitBackward>)\n",
            "x.grad = tensor([0.0741, 0.0711, 0.0003, 0.0738])\n"
          ]
        }
      ],
      "source": [
        "x = torch.tensor([np.pi/4]*NUM_QUBITS, requires_grad=True)\n",
        "\n",
        "qc = TorchCircuit.apply\n",
        "y1 = qc(x)\n",
        "print('y1 after quantum layer: {}'.format(y1))\n",
        "y1 = nn.Linear(2**NUM_QUBITS,1)(y1.float())\n",
        "y1.backward()\n",
        "print('x.grad = {}'.format(x.grad))"
      ]
    },
    {
      "cell_type": "code",
      "execution_count": 29,
      "metadata": {
        "colab": {
          "base_uri": "https://localhost:8080/",
          "height": 519
        },
        "id": "O2U-st205rwR",
        "outputId": "baf0ec90-35bd-4dff-9bed-4b1eeee263cd"
      },
      "outputs": [
        {
          "output_type": "stream",
          "name": "stderr",
          "text": [
            "\r  0%|          | 0/100 [00:00<?, ?it/s]<ipython-input-16-dddcc3e3ecd3>:36: DeprecationWarning: Using a qobj for run() is deprecated as of qiskit-aer 0.14 and will be removed no sooner than 3 months from that release date. Transpiled circuits should now be passed directly using `backend.run(circuits, **run_options).\n",
            "  job_sim = self.backend.run(qobj)\n",
            "100%|██████████| 100/100 [00:25<00:00,  3.87it/s]\n"
          ]
        },
        {
          "output_type": "execute_result",
          "data": {
            "text/plain": [
              "[<matplotlib.lines.Line2D at 0x792a23a7cd60>]"
            ]
          },
          "metadata": {},
          "execution_count": 29
        },
        {
          "output_type": "display_data",
          "data": {
            "text/plain": [
              "<Figure size 640x480 with 1 Axes>"
            ],
            "image/png": "[encoded data removed]"
          },
          "metadata": {}
        }
      ],
      "source": [
        "qc = TorchCircuit.apply\n",
        "\n",
        "def cost(x):\n",
        "    target = -1\n",
        "    expval = qc(x)[0]\n",
        "\n",
        "    val = sum([(i+1)*expval[i] for i in range(2**NUM_QUBITS)]) / 2**NUM_QUBITS\n",
        "\n",
        "    return torch.abs(val - target) ** 2, expval\n",
        "\n",
        "x = torch.tensor([-np.pi/4]*NUM_QUBITS, requires_grad=True)\n",
        "opt = torch.optim.Adam([x], lr=0.1)\n",
        "\n",
        "num_epoch = 100\n",
        "\n",
        "loss_list = []\n",
        "expval_list = []\n",
        "\n",
        "for i in tqdm(range(num_epoch)):\n",
        "    opt.zero_grad()\n",
        "    loss, expval = cost(x)\n",
        "    loss.backward()\n",
        "    opt.step()\n",
        "    loss_list.append(loss.item())\n",
        "    expval_list.append(expval)\n",
        "\n",
        "plt.plot(loss_list)"
      ]
    },
    {
      "cell_type": "code",
      "execution_count": 21,
      "metadata": {
        "id": "2z2tMQP96Oaw"
      },
      "outputs": [],
      "source": [
        "# import torch\n",
        "# import torch.nn as nn\n",
        "# import torch.nn.functional as F\n",
        "# import torch.optim as optim"
      ]
    },
    {
      "cell_type": "code",
      "execution_count": 30,
      "metadata": {
        "id": "d4Rka8x-78T6"
      },
      "outputs": [],
      "source": [
        "import numpy as np\n",
        "import pandas as pd\n",
        "import torch\n",
        "from torch.utils.data import Dataset, DataLoader\n",
        "from torchvision import datasets, transforms\n",
        "\n",
        "# Load the MNIST training dataset\n",
        "n_samples = 150\n",
        "X_train = datasets.MNIST(root='./data', train=True, download=True,\n",
        "                         transform=transforms.Compose([transforms.ToTensor()]))\n",
        "\n",
        "# Select the first 150 samples from each class for training data\n",
        "idx = np.append(np.where(X_train.targets == 0)[0][:n_samples],\n",
        "                np.where(X_train.targets == 1)[0][:n_samples])\n",
        "idx = np.append(idx,\n",
        "                np.where(X_train.targets == 2)[0][:n_samples])\n",
        "idx = np.append(idx,\n",
        "                np.where(X_train.targets == 3)[0][:n_samples])\n",
        "idx = np.append(idx,\n",
        "                np.where(X_train.targets == 4)[0][:n_samples])\n",
        "idx = np.append(idx,\n",
        "                np.where(X_train.targets == 5)[0][:n_samples])\n",
        "idx = np.append(idx,\n",
        "                np.where(X_train.targets == 6)[0][:n_samples])\n",
        "idx = np.append(idx,\n",
        "                np.where(X_train.targets == 7)[0][:n_samples])\n",
        "\n",
        "X_train.data = X_train.data[idx]\n",
        "X_train.targets = X_train.targets[idx]\n",
        "\n",
        "train_loader = DataLoader(X_train, batch_size=1, shuffle=True, pin_memory=True)\n",
        "\n",
        "# Load the MNIST test dataset\n",
        "X_test = datasets.MNIST(root='./data', train=False, download=True,\n",
        "                        transform=transforms.Compose([transforms.ToTensor()]))\n",
        "\n",
        "# Select the first 150 samples from each class for test data\n",
        "idx = np.append(np.where(X_test.targets == 0)[0][:n_samples],\n",
        "                np.where(X_test.targets == 1)[0][:n_samples])\n",
        "idx = np.append(idx,\n",
        "                np.where(X_test.targets == 2)[0][:n_samples])\n",
        "idx = np.append(idx,\n",
        "                np.where(X_test.targets == 3)[0][:n_samples])\n",
        "idx = np.append(idx,\n",
        "                np.where(X_test.targets == 4)[0][:n_samples])\n",
        "idx = np.append(idx,\n",
        "                np.where(X_test.targets == 5)[0][:n_samples])\n",
        "idx = np.append(idx,\n",
        "                np.where(X_test.targets == 6)[0][:n_samples])\n",
        "idx = np.append(idx,\n",
        "                np.where(X_test.targets == 7)[0][:n_samples])\n",
        "\n",
        "X_test.data = X_test.data[idx]\n",
        "X_test.targets = X_test.targets[idx]\n",
        "\n",
        "test_loader = DataLoader(X_test, batch_size=1, shuffle=True)\n",
        "\n",
        "# Load the diabetes dataset\n",
        "df = pd.read_csv('dataset.csv')"
      ]
    },
    {
      "cell_type": "code",
      "execution_count": 31,
      "metadata": {
        "id": "bPRqHVIY8Acn"
      },
      "outputs": [],
      "source": [
        "class Net(nn.Module):\n",
        "    def __init__(self):\n",
        "        super(Net, self).__init__()\n",
        "        self.conv1 = nn.Conv2d(1, 10, kernel_size=5)\n",
        "        self.conv2 = nn.Conv2d(10, 20, kernel_size=5)\n",
        "        self.conv2_drop = nn.Dropout2d()\n",
        "        self.fc1 = nn.Linear(320, 50)\n",
        "        self.fc2 = nn.Linear(50, NUM_QUBITS)\n",
        "        self.qc = TorchCircuit.apply\n",
        "        self.qcsim = nn.Linear(NUM_QUBITS, 2)\n",
        "        self.fc3 = nn.Linear(2, 4)\n",
        "\n",
        "    def forward(self, x):\n",
        "        x = F.relu(F.max_pool2d(self.conv1(x), 2))\n",
        "        x = F.relu(F.max_pool2d(self.conv2_drop(self.conv2(x)), 2))\n",
        "        x = x.view(-1, 320)\n",
        "        x = F.relu(self.fc1(x))\n",
        "        x = F.dropout(x, training=self.training)\n",
        "        x = self.fc2(x)\n",
        "        x = np.pi*torch.tanh(x)\n",
        "\n",
        "        MODE = 'QC' # 'QC' or 'QC_sim'\n",
        "\n",
        "        if MODE == 'QC':\n",
        "            x = qc(x[0]) # QUANTUM LAYER\n",
        "\n",
        "        else:\n",
        "            x = self.qcsim(x)\n",
        "\n",
        "        x = torch.sigmoid(x)\n",
        "        x = torch.cat((x, 1-x), -1)\n",
        "        return x\n",
        "\n",
        "    def predict(self, x):\n",
        "        # apply softmax\n",
        "        pred = self.forward(x)\n",
        "        ans = torch.argmax(pred[0]).item()\n",
        "        return torch.tensor(ans)\n",
        "\n",
        "network = Net()#.to(device)\n",
        "optimizer = optim.Adam(network.parameters(), lr=0.001)"
      ]
    },
    {
      "cell_type": "code",
      "execution_count": 32,
      "metadata": {
        "colab": {
          "base_uri": "https://localhost:8080/"
        },
        "id": "MEWYiSCV8GZh",
        "outputId": "2ed6a98b-eb6b-427f-e2af-2b20ebdcd60b"
      },
      "outputs": [
        {
          "output_type": "stream",
          "name": "stderr",
          "text": [
            "<ipython-input-16-dddcc3e3ecd3>:36: DeprecationWarning: Using a qobj for run() is deprecated as of qiskit-aer 0.14 and will be removed no sooner than 3 months from that release date. Transpiled circuits should now be passed directly using `backend.run(circuits, **run_options).\n",
            "  job_sim = self.backend.run(qobj)\n"
          ]
        },
        {
          "output_type": "stream",
          "name": "stdout",
          "text": [
            "Training [10%]\tLoss: 3.4076\n",
            "Training [20%]\tLoss: 3.3494\n",
            "Training [30%]\tLoss: 3.3278\n",
            "Training [40%]\tLoss: 3.3204\n",
            "Training [50%]\tLoss: 3.3121\n",
            "Training [60%]\tLoss: 3.3097\n",
            "Training [70%]\tLoss: 3.3068\n",
            "Training [80%]\tLoss: 3.3050\n",
            "Training [90%]\tLoss: 3.3027\n",
            "Training [100%]\tLoss: 3.3006\n"
          ]
        }
      ],
      "source": [
        "epochs = 10\n",
        "loss_list = []\n",
        "loss_func = nn.CrossEntropyLoss()\n",
        "\n",
        "for epoch in range(epochs):\n",
        "    total_loss = []\n",
        "    for batch_idx, (data, target) in enumerate(train_loader):\n",
        "#         print(batch_idx)\n",
        "        optimizer.zero_grad()\n",
        "        # Forward pass\n",
        "        output = network(data)\n",
        "        # Calculating loss\n",
        "        loss = loss_func(output, target)\n",
        "        # Backward pass\n",
        "        loss.backward()\n",
        "        # Optimize the weights\n",
        "        optimizer.step()\n",
        "\n",
        "        total_loss.append(loss.item())\n",
        "\n",
        "    loss_list.append(sum(total_loss)/len(total_loss))\n",
        "    print('Training [{:.0f}%]\\tLoss: {:.4f}'.format(\n",
        "        100. * (epoch + 1) / epochs, loss_list[-1]))"
      ]
    },
    {
      "cell_type": "code",
      "execution_count": 33,
      "metadata": {
        "colab": {
          "base_uri": "https://localhost:8080/",
          "height": 489
        },
        "id": "jO2SVAoh-XQG",
        "outputId": "10294c52-619b-4915-e384-21d0a6ea4669"
      },
      "outputs": [
        {
          "output_type": "execute_result",
          "data": {
            "text/plain": [
              "Text(0, 0.5, 'Cross Entropy Loss')"
            ]
          },
          "metadata": {},
          "execution_count": 33
        },
        {
          "output_type": "display_data",
          "data": {
            "text/plain": [
              "<Figure size 640x480 with 1 Axes>"
            ],
            "image/png": "[encoded data removed]"
          },
          "metadata": {}
        }
      ],
      "source": [
        "plt.plot(loss_list)\n",
        "plt.title('Hybrid NN Training Convergence for {}-qubit'.format(NUM_QUBITS))\n",
        "plt.xlabel('Training Iterations')\n",
        "plt.ylabel('Cross Entropy Loss')"
      ]
    },
    {
      "cell_type": "code",
      "execution_count": 34,
      "metadata": {
        "colab": {
          "base_uri": "https://localhost:8080/"
        },
        "id": "zaMHzwFhOTcY",
        "outputId": "f1f49d64-4523-48c9-cf23-e07e19842580"
      },
      "outputs": [
        {
          "output_type": "stream",
          "name": "stderr",
          "text": [
            "<ipython-input-16-dddcc3e3ecd3>:36: DeprecationWarning: Using a qobj for run() is deprecated as of qiskit-aer 0.14 and will be removed no sooner than 3 months from that release date. Transpiled circuits should now be passed directly using `backend.run(circuits, **run_options).\n",
            "  job_sim = self.backend.run(qobj)\n"
          ]
        }
      ],
      "source": [
        "accuracy = 0\n",
        "number = 0\n",
        "for batch_idx, (data, target) in enumerate(test_loader):\n",
        "    number +=1\n",
        "    output = network.predict(data).item()\n",
        "    accuracy += (output == target[0].item())*1"
      ]
    },
    {
      "cell_type": "code",
      "execution_count": 35,
      "metadata": {
        "colab": {
          "base_uri": "https://localhost:8080/"
        },
        "id": "oZl7zYuoOaBc",
        "outputId": "7dfb961e-a08b-4515-ff49-3173261d9112"
      },
      "outputs": [
        {
          "output_type": "stream",
          "name": "stdout",
          "text": [
            "Akurasi data adalah: 986/1200 = 82.16666666666667%\n"
          ]
        }
      ],
      "source": [
        "print(\"Akurasi data adalah: {}/{} = {}%\".format(accuracy,number,100*accuracy/number))"
      ]
    }
  ],
  "metadata": {
    "colab": {
      "provenance": []
    },
    "kernelspec": {
      "display_name": "Python 3",
      "name": "python3"
    },
    "language_info": {
      "name": "python"
    }
  },
  "nbformat": 4,
  "nbformat_minor": 0
}